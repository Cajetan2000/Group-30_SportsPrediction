{
  "cells": [
    {
      "cell_type": "markdown",
      "source": [
        "# **This project is about building models that predict a player's overall rating given the player's profile.**"
      ],
      "metadata": {
        "id": "zY3Kll6Dxmve"
      }
    },
    {
      "cell_type": "markdown",
      "source": [
        "**Importing Libraries**"
      ],
      "metadata": {
        "id": "-0Udz8TUesIw"
      }
    },
    {
      "cell_type": "code",
      "execution_count": 1,
      "metadata": {
        "id": "QON7r6A3BIVq"
      },
      "outputs": [],
      "source": [
        "import numpy as np\n",
        "import pandas as pd\n",
        "from sklearn.preprocessing import OneHotEncoder\n",
        "from sklearn.impute import SimpleImputer"
      ]
    },
    {
      "cell_type": "code",
      "execution_count": 2,
      "metadata": {
        "colab": {
          "base_uri": "https://localhost:8080/"
        },
        "id": "WbAqvlwqBeiW",
        "outputId": "343c1f50-8c59-469f-9565-d53004f5cd58"
      },
      "outputs": [
        {
          "output_type": "stream",
          "name": "stdout",
          "text": [
            "Mounted at /content/drive\n"
          ]
        }
      ],
      "source": [
        "from google.colab import drive\n",
        "drive.mount('/content/drive')"
      ]
    },
    {
      "cell_type": "code",
      "source": [],
      "metadata": {
        "id": "xdLX8aJceCDt"
      },
      "execution_count": null,
      "outputs": []
    },
    {
      "cell_type": "markdown",
      "source": [
        "**Reading the data used for training the model.**\n",
        "\n",
        "\n"
      ],
      "metadata": {
        "id": "ytOcZnWWdpHd"
      }
    },
    {
      "cell_type": "code",
      "execution_count": 3,
      "metadata": {
        "id": "me3xccOvBee_"
      },
      "outputs": [],
      "source": [
        "Training_Data = pd.read_csv('/content/drive/MyDrive/Colab Notebooks/players_21.csv')"
      ]
    },
    {
      "cell_type": "markdown",
      "source": [
        "**Reading the data used for testing the model.**"
      ],
      "metadata": {
        "id": "ebP6i1FKd8qx"
      }
    },
    {
      "cell_type": "code",
      "execution_count": 4,
      "metadata": {
        "colab": {
          "base_uri": "https://localhost:8080/"
        },
        "id": "fpGL2eRMBect",
        "outputId": "5770eca9-3c0f-4dd0-e099-02e327029e68"
      },
      "outputs": [
        {
          "output_type": "stream",
          "name": "stderr",
          "text": [
            "<ipython-input-4-765309aa945a>:1: DtypeWarning: Columns (25,108) have mixed types. Specify dtype option on import or set low_memory=False.\n",
            "  Testing_Data = pd.read_csv('/content/drive/MyDrive/Colab Notebooks/players_22.csv')\n"
          ]
        }
      ],
      "source": [
        "Testing_Data = pd.read_csv('/content/drive/MyDrive/Colab Notebooks/players_22.csv')"
      ]
    },
    {
      "cell_type": "markdown",
      "source": [
        "**Irrelivant attributes list**"
      ],
      "metadata": {
        "id": "mtXgswM7gRF6"
      }
    },
    {
      "cell_type": "code",
      "execution_count": 5,
      "metadata": {
        "id": "TtrPfyShBeZ2"
      },
      "outputs": [],
      "source": [
        "\n",
        "Attributes_to_drop = ['sofifa_id', 'player_url', 'short_name', 'long_name', 'club_team_id', 'club_name', 'league_name', 'player_face_url', 'club_logo_url', 'club_flag_url', 'nation_logo_url', 'nation_flag_url', 'club_jersey_number', 'club_loaned_from', 'club_joined','club_contract_valid_until', 'nationality_id', 'nationality_name', 'nation_team_id', 'nation_jersey_number', 'preferred_foot', 'weak_foot', 'dob', 'height_cm', 'international_reputation', 'body_type', 'real_face', 'player_tags', 'player_traits']"
      ]
    },
    {
      "cell_type": "markdown",
      "source": [
        "**Selected artributes to check for NaNs(Training data)**"
      ],
      "metadata": {
        "id": "oH9RHXamglQ-"
      }
    },
    {
      "cell_type": "code",
      "execution_count": 6,
      "metadata": {
        "id": "Qm-mVuysBeXh"
      },
      "outputs": [],
      "source": [
        "Training_Data = Training_Data.drop(Attributes_to_drop, axis = 1)"
      ]
    },
    {
      "cell_type": "code",
      "execution_count": null,
      "metadata": {
        "id": "1b5nST4SxcYd"
      },
      "outputs": [],
      "source": []
    },
    {
      "cell_type": "markdown",
      "source": [
        "**Selected artributes to check for NaNs(Testing data)**"
      ],
      "metadata": {
        "id": "Kzu985IuhEgF"
      }
    },
    {
      "cell_type": "code",
      "execution_count": 7,
      "metadata": {
        "id": "2cFFlTiMBeVb"
      },
      "outputs": [],
      "source": [
        "Testing_Data = Testing_Data.drop(Attributes_to_drop, axis = 1)"
      ]
    },
    {
      "cell_type": "markdown",
      "source": [
        "**Removing attributes with more than 30 % null values(Training Data).**"
      ],
      "metadata": {
        "id": "DFpdNsQUhNkg"
      }
    },
    {
      "cell_type": "code",
      "execution_count": 8,
      "metadata": {
        "id": "4C8SLE34CI1b"
      },
      "outputs": [],
      "source": [
        "# Removing attributes with more than 30 % null values.\n",
        "Condition = 0.7 * len(Training_Data)\n",
        "Filtered_Training_Data = Training_Data.dropna(thresh = Condition, axis=1)"
      ]
    },
    {
      "cell_type": "markdown",
      "source": [
        "**Removing attributes with more than 30 % null values(Training Data).**"
      ],
      "metadata": {
        "id": "YnA-zsrrkQ_S"
      }
    },
    {
      "cell_type": "code",
      "source": [
        "Condition = 0.7 * len(Testing_Data)\n",
        "Filtered_Testing_Data = Testing_Data.dropna(thresh = Condition, axis=1)"
      ],
      "metadata": {
        "id": "W7luJ7Vii6Vj"
      },
      "execution_count": 9,
      "outputs": []
    },
    {
      "cell_type": "markdown",
      "source": [
        "**Imputing null values of both training and testing data using forward fill**"
      ],
      "metadata": {
        "id": "VP3Wm9MJkX5t"
      }
    },
    {
      "cell_type": "code",
      "execution_count": null,
      "metadata": {
        "id": "8VYEu1u0CIu3"
      },
      "outputs": [],
      "source": [
        "Filtered_Training_Data.fillna(method = 'ffill', inplace = True)\n",
        "Filtered_Testing_Data.fillna(method = 'ffill', inplace = True)"
      ]
    },
    {
      "cell_type": "code",
      "execution_count": 17,
      "metadata": {
        "id": "g_pbuK2ZCIsA"
      },
      "outputs": [],
      "source": [
        "pd.options.display.max_columns = None"
      ]
    },
    {
      "cell_type": "code",
      "execution_count": null,
      "metadata": {
        "id": "Y2cGFUt4CIpW"
      },
      "outputs": [],
      "source": [
        "Filtered_Training_Data"
      ]
    },
    {
      "cell_type": "code",
      "execution_count": null,
      "metadata": {
        "id": "sc6RGURoCImh"
      },
      "outputs": [],
      "source": [
        "Filtered_Testing_Data"
      ]
    },
    {
      "cell_type": "markdown",
      "source": [
        "**A list containing non-numeric attributes to be encoded**"
      ],
      "metadata": {
        "id": "HHWL2QNDks09"
      }
    },
    {
      "cell_type": "code",
      "execution_count": null,
      "metadata": {
        "id": "M_XUqUgZCIj6"
      },
      "outputs": [],
      "source": [
        "Attributes_To_be_Encoded = ['player_positions', 'club_position', 'work_rate', 'ls', 'st', 'rs', 'lw',\t'lf',\t'cf', 'rf',\t'rw',\t'lam',\t'cam',\t'ram',\t'lm',\t'lcm',\t'cm',\t'rcm',\t'rm',\t'lwb',\t'ldm',\t'cdm',\t'rdm',\t'rwb',\t'lb',\t'lcb',\t'cb',\t'rcb',\t'rb',\t'gk']"
      ]
    },
    {
      "cell_type": "markdown",
      "source": [
        "**Encoding the non-numeric attributes in the training data frame.**"
      ],
      "metadata": {
        "id": "xo-W84N2k6as"
      }
    },
    {
      "cell_type": "code",
      "execution_count": null,
      "metadata": {
        "id": "lMdz_h_kCIgz"
      },
      "outputs": [],
      "source": [
        "\n",
        "for non_numeric_attribute in Attributes_To_be_Encoded:\n",
        "  Filtered_Training_Data[non_numeric_attribute],_=pd.factorize(Filtered_Training_Data[non_numeric_attribute])"
      ]
    },
    {
      "cell_type": "code",
      "execution_count": null,
      "metadata": {
        "id": "AufMKaG-CIdd"
      },
      "outputs": [],
      "source": [
        "Filtered_Training_Data"
      ]
    },
    {
      "cell_type": "markdown",
      "source": [
        "**Encoding the non-numeric attributes in the testing data frame.**"
      ],
      "metadata": {
        "id": "duoJNt9mlA6C"
      }
    },
    {
      "cell_type": "code",
      "execution_count": null,
      "metadata": {
        "id": "643CTa0SCIac"
      },
      "outputs": [],
      "source": [
        "\n",
        "for non_numeric_attribute in Attributes_To_be_Encoded:\n",
        "  Filtered_Testing_Data[non_numeric_attribute],_=pd.factorize(Filtered_Testing_Data[non_numeric_attribute])"
      ]
    },
    {
      "cell_type": "code",
      "execution_count": null,
      "metadata": {
        "id": "47cFN9UNCIXc"
      },
      "outputs": [],
      "source": [
        "Filtered_Testing_Data"
      ]
    },
    {
      "cell_type": "markdown",
      "source": [
        "**Spliting data into Input_training(X) and Output_training(Y) for feature inportance test.**"
      ],
      "metadata": {
        "id": "pJNPeNqalJaA"
      }
    },
    {
      "cell_type": "code",
      "execution_count": null,
      "metadata": {
        "id": "VRqidEAOCIUO"
      },
      "outputs": [],
      "source": [
        "Input_Training = Filtered_Training_Data.drop('overall', axis = 1)\n",
        "Output_Training = pd.DataFrame(Filtered_Training_Data['overall'], columns = ['overall'])\n",
        "\n"
      ]
    },
    {
      "cell_type": "code",
      "execution_count": null,
      "metadata": {
        "id": "N_idLvwFCIRO"
      },
      "outputs": [],
      "source": [
        "Input_Training_Attribute = Input_Training.columns"
      ]
    },
    {
      "cell_type": "markdown",
      "source": [
        "**Training XGBRegressor model for feture importance testand printing the output**"
      ],
      "metadata": {
        "id": "3K9OdMoUmC3Y"
      }
    },
    {
      "cell_type": "code",
      "execution_count": null,
      "metadata": {
        "id": "5tgJjMG0CIOX"
      },
      "outputs": [],
      "source": [
        "from xgboost import XGBRegressor\n",
        "from xgboost import plot_importance\n",
        "from matplotlib import pyplot\n",
        "\n",
        "\n",
        "# fit model no training data\n",
        "model = XGBRegressor()\n",
        "model.fit(Input_Training, Output_Training)\n",
        "# plot feature importance\n",
        "importances = model.feature_importances_\n",
        "\n",
        "\n",
        "# Print or use feature importances\n",
        "sorted_indices = np.argsort(importances)[::-1]\n",
        "for index in sorted_indices:\n",
        "   print(f\"'{Input_Training_Attribute[index]}', '{importances[index]}'\")\n",
        "   print()\n"
      ]
    },
    {
      "cell_type": "code",
      "execution_count": null,
      "metadata": {
        "id": "V-Qxp1zea3rA"
      },
      "outputs": [],
      "source": []
    },
    {
      "cell_type": "markdown",
      "source": [
        "**A list containing the least important attributes to be dropped**"
      ],
      "metadata": {
        "id": "ovEtP3URmklm"
      }
    },
    {
      "cell_type": "code",
      "execution_count": null,
      "metadata": {
        "id": "YlDbUTtUCILO"
      },
      "outputs": [],
      "source": [
        "Final_Attributes_To_drop = ['defending_sliding_tackle', 'mentality_composure', 'club_position', 'skill_ball_control', 'mentality_penalties', 'movement_agility', 'lcb', 'defending_standing_tackle', 'pace', 'skill_dribbling', 'attacking_finishing', 'attacking_heading_accuracy', 'defending_marking_awareness', 'mentality_vision', 'power_long_shots', 'movement_sprint_speed', 'mentality_aggression', 'mentality_interceptions', 'power_jumping', 'attacking_short_passing', 'attacking_volleys', 'movement_acceleration', 'power_strength', 'player_positions', 'power_shot_power', 'skill_curve', 'skill_fk_accuracy', 'movement_balance', 'weight_kg', 'skill_long_passing', 'work_rate', 'skill_moves', 'rcb', 'cb', 'rwb', 'rdm', 'cdm', 'rm', 'rb', 'st', 'rcm', 'cm', 'ram', 'cam', 'rf', 'cf', 'rs', 'rw']"
      ]
    },
    {
      "cell_type": "markdown",
      "source": [
        "**Dropping least important attributes to form Input_training(X)**"
      ],
      "metadata": {
        "id": "4OPC3a2Um-eQ"
      }
    },
    {
      "cell_type": "code",
      "execution_count": null,
      "metadata": {
        "id": "09TxM9_hCIIM"
      },
      "outputs": [],
      "source": [
        "Input_Training = Input_Training.drop(Final_Attributes_To_drop, axis = 1)"
      ]
    },
    {
      "cell_type": "code",
      "execution_count": null,
      "metadata": {
        "id": "pDLQdX1QCIFs"
      },
      "outputs": [],
      "source": [
        "Input_Training"
      ]
    },
    {
      "cell_type": "markdown",
      "source": [
        "**Spliting data into Input_testing(X) and Output_testing(Y) for model testing**"
      ],
      "metadata": {
        "id": "DhIAjj0Nn8Xe"
      }
    },
    {
      "cell_type": "code",
      "source": [
        "Input_Testing = Filtered_Testing_Data.drop('overall', axis = 1)\n",
        "Output_Testing = pd.DataFrame(Filtered_Testing_Data['overall'], columns = ['overall'])"
      ],
      "metadata": {
        "id": "r1nJPMZFnYDJ"
      },
      "execution_count": null,
      "outputs": []
    },
    {
      "cell_type": "markdown",
      "source": [
        "**Dropping least important attributes to form Input_testing(X)**"
      ],
      "metadata": {
        "id": "ID0IThOPo1Ag"
      }
    },
    {
      "cell_type": "code",
      "execution_count": null,
      "metadata": {
        "id": "BSJpaoecCIC9"
      },
      "outputs": [],
      "source": [
        "Input_Testing = Input_Testing.drop(Final_Attributes_To_drop, axis = 1)"
      ]
    },
    {
      "cell_type": "code",
      "execution_count": null,
      "metadata": {
        "id": "CwHurmCpBeUU"
      },
      "outputs": [],
      "source": [
        "Input_Testing"
      ]
    },
    {
      "cell_type": "code",
      "source": [],
      "metadata": {
        "id": "e6UxwVU4rt3C"
      },
      "execution_count": null,
      "outputs": []
    },
    {
      "cell_type": "markdown",
      "source": [
        "# **Model One**"
      ],
      "metadata": {
        "id": "W680cBMerokh"
      }
    },
    {
      "cell_type": "markdown",
      "source": [
        "**Importing relevant libraries for model training**"
      ],
      "metadata": {
        "id": "MXF0efOfpLAw"
      }
    },
    {
      "cell_type": "code",
      "execution_count": null,
      "metadata": {
        "id": "6M0Ow-8BBePA"
      },
      "outputs": [],
      "source": [
        "from sklearn.linear_model import LinearRegression\n",
        "from sklearn.metrics import mean_absolute_error"
      ]
    },
    {
      "cell_type": "markdown",
      "source": [
        "**Creating the LinearRegression model to be trained**"
      ],
      "metadata": {
        "id": "hUBNcgN9pXY5"
      }
    },
    {
      "cell_type": "code",
      "execution_count": null,
      "metadata": {
        "id": "-VcUJ_T2BeLu"
      },
      "outputs": [],
      "source": [
        "Linear_Regressor_Model = LinearRegression()"
      ]
    },
    {
      "cell_type": "markdown",
      "source": [
        "**Fitting the linear regression model with training data**"
      ],
      "metadata": {
        "id": "277-QHUUpkZZ"
      }
    },
    {
      "cell_type": "code",
      "execution_count": null,
      "metadata": {
        "colab": {
          "base_uri": "https://localhost:8080/",
          "height": 74
        },
        "id": "NlOjLAgnBeI5",
        "outputId": "b1b42870-1a2c-4a83-8da8-c5fcd3ef8b70"
      },
      "outputs": [
        {
          "output_type": "execute_result",
          "data": {
            "text/plain": [
              "LinearRegression()"
            ],
            "text/html": [
              "<style>#sk-container-id-1 {color: black;background-color: white;}#sk-container-id-1 pre{padding: 0;}#sk-container-id-1 div.sk-toggleable {background-color: white;}#sk-container-id-1 label.sk-toggleable__label {cursor: pointer;display: block;width: 100%;margin-bottom: 0;padding: 0.3em;box-sizing: border-box;text-align: center;}#sk-container-id-1 label.sk-toggleable__label-arrow:before {content: \"▸\";float: left;margin-right: 0.25em;color: #696969;}#sk-container-id-1 label.sk-toggleable__label-arrow:hover:before {color: black;}#sk-container-id-1 div.sk-estimator:hover label.sk-toggleable__label-arrow:before {color: black;}#sk-container-id-1 div.sk-toggleable__content {max-height: 0;max-width: 0;overflow: hidden;text-align: left;background-color: #f0f8ff;}#sk-container-id-1 div.sk-toggleable__content pre {margin: 0.2em;color: black;border-radius: 0.25em;background-color: #f0f8ff;}#sk-container-id-1 input.sk-toggleable__control:checked~div.sk-toggleable__content {max-height: 200px;max-width: 100%;overflow: auto;}#sk-container-id-1 input.sk-toggleable__control:checked~label.sk-toggleable__label-arrow:before {content: \"▾\";}#sk-container-id-1 div.sk-estimator input.sk-toggleable__control:checked~label.sk-toggleable__label {background-color: #d4ebff;}#sk-container-id-1 div.sk-label input.sk-toggleable__control:checked~label.sk-toggleable__label {background-color: #d4ebff;}#sk-container-id-1 input.sk-hidden--visually {border: 0;clip: rect(1px 1px 1px 1px);clip: rect(1px, 1px, 1px, 1px);height: 1px;margin: -1px;overflow: hidden;padding: 0;position: absolute;width: 1px;}#sk-container-id-1 div.sk-estimator {font-family: monospace;background-color: #f0f8ff;border: 1px dotted black;border-radius: 0.25em;box-sizing: border-box;margin-bottom: 0.5em;}#sk-container-id-1 div.sk-estimator:hover {background-color: #d4ebff;}#sk-container-id-1 div.sk-parallel-item::after {content: \"\";width: 100%;border-bottom: 1px solid gray;flex-grow: 1;}#sk-container-id-1 div.sk-label:hover label.sk-toggleable__label {background-color: #d4ebff;}#sk-container-id-1 div.sk-serial::before {content: \"\";position: absolute;border-left: 1px solid gray;box-sizing: border-box;top: 0;bottom: 0;left: 50%;z-index: 0;}#sk-container-id-1 div.sk-serial {display: flex;flex-direction: column;align-items: center;background-color: white;padding-right: 0.2em;padding-left: 0.2em;position: relative;}#sk-container-id-1 div.sk-item {position: relative;z-index: 1;}#sk-container-id-1 div.sk-parallel {display: flex;align-items: stretch;justify-content: center;background-color: white;position: relative;}#sk-container-id-1 div.sk-item::before, #sk-container-id-1 div.sk-parallel-item::before {content: \"\";position: absolute;border-left: 1px solid gray;box-sizing: border-box;top: 0;bottom: 0;left: 50%;z-index: -1;}#sk-container-id-1 div.sk-parallel-item {display: flex;flex-direction: column;z-index: 1;position: relative;background-color: white;}#sk-container-id-1 div.sk-parallel-item:first-child::after {align-self: flex-end;width: 50%;}#sk-container-id-1 div.sk-parallel-item:last-child::after {align-self: flex-start;width: 50%;}#sk-container-id-1 div.sk-parallel-item:only-child::after {width: 0;}#sk-container-id-1 div.sk-dashed-wrapped {border: 1px dashed gray;margin: 0 0.4em 0.5em 0.4em;box-sizing: border-box;padding-bottom: 0.4em;background-color: white;}#sk-container-id-1 div.sk-label label {font-family: monospace;font-weight: bold;display: inline-block;line-height: 1.2em;}#sk-container-id-1 div.sk-label-container {text-align: center;}#sk-container-id-1 div.sk-container {/* jupyter's `normalize.less` sets `[hidden] { display: none; }` but bootstrap.min.css set `[hidden] { display: none !important; }` so we also need the `!important` here to be able to override the default hidden behavior on the sphinx rendered scikit-learn.org. See: https://github.com/scikit-learn/scikit-learn/issues/21755 */display: inline-block !important;position: relative;}#sk-container-id-1 div.sk-text-repr-fallback {display: none;}</style><div id=\"sk-container-id-1\" class=\"sk-top-container\"><div class=\"sk-text-repr-fallback\"><pre>LinearRegression()</pre><b>In a Jupyter environment, please rerun this cell to show the HTML representation or trust the notebook. <br />On GitHub, the HTML representation is unable to render, please try loading this page with nbviewer.org.</b></div><div class=\"sk-container\" hidden><div class=\"sk-item\"><div class=\"sk-estimator sk-toggleable\"><input class=\"sk-toggleable__control sk-hidden--visually\" id=\"sk-estimator-id-1\" type=\"checkbox\" checked><label for=\"sk-estimator-id-1\" class=\"sk-toggleable__label sk-toggleable__label-arrow\">LinearRegression</label><div class=\"sk-toggleable__content\"><pre>LinearRegression()</pre></div></div></div></div></div>"
            ]
          },
          "metadata": {},
          "execution_count": 30
        }
      ],
      "source": [
        "Linear_Regressor_Model.fit(Input_Training, Output_Training)"
      ]
    },
    {
      "cell_type": "markdown",
      "source": [
        "**Predicting overall rating using testing data**"
      ],
      "metadata": {
        "id": "ffTc6vMRpvBT"
      }
    },
    {
      "cell_type": "code",
      "execution_count": null,
      "metadata": {
        "id": "QrzatDheMXNy"
      },
      "outputs": [],
      "source": [
        "Linear_Regressor_Model_Prediction = Linear_Regressor_Model.predict(Input_Testing)"
      ]
    },
    {
      "cell_type": "code",
      "execution_count": null,
      "metadata": {
        "colab": {
          "base_uri": "https://localhost:8080/"
        },
        "id": "QnCdn2-dBeGe",
        "outputId": "b823412d-3866-4356-c492-9a5e616b81fc"
      },
      "outputs": [
        {
          "output_type": "execute_result",
          "data": {
            "text/plain": [
              "array([[105.83296703],\n",
              "       [107.9965963 ],\n",
              "       [ 99.86460346],\n",
              "       ...,\n",
              "       [ 49.26152871],\n",
              "       [ 49.79588953],\n",
              "       [ 51.48376741]])"
            ]
          },
          "metadata": {},
          "execution_count": 32
        }
      ],
      "source": [
        "Linear_Regressor_Model_Prediction"
      ]
    },
    {
      "cell_type": "markdown",
      "source": [
        "**Checking the mean_absolute_error of the linear regression model**"
      ],
      "metadata": {
        "id": "VGzkNmSFp_34"
      }
    },
    {
      "cell_type": "code",
      "execution_count": null,
      "metadata": {
        "colab": {
          "base_uri": "https://localhost:8080/"
        },
        "id": "FiUFh_-oBeAf",
        "outputId": "2f5bc2af-178a-4abe-a5b2-2697bb2cfce1"
      },
      "outputs": [
        {
          "output_type": "execute_result",
          "data": {
            "text/plain": [
              "1.562526151387253"
            ]
          },
          "metadata": {},
          "execution_count": 33
        }
      ],
      "source": [
        "mean_absolute_error(Linear_Regressor_Model_Prediction, Output_Testing)"
      ]
    },
    {
      "cell_type": "code",
      "execution_count": null,
      "metadata": {
        "id": "LstagsWw4CIR"
      },
      "outputs": [],
      "source": []
    },
    {
      "cell_type": "markdown",
      "source": [
        "# **Model Two**"
      ],
      "metadata": {
        "id": "6Fq8W0wDre2K"
      }
    },
    {
      "cell_type": "markdown",
      "source": [
        "**Importing DecisionTreeRegressor**"
      ],
      "metadata": {
        "id": "FSFbpmNBqVYG"
      }
    },
    {
      "cell_type": "code",
      "execution_count": null,
      "metadata": {
        "id": "YTrdRr0kBd9d"
      },
      "outputs": [],
      "source": [
        "from sklearn.tree import DecisionTreeRegressor"
      ]
    },
    {
      "cell_type": "code",
      "source": [],
      "metadata": {
        "id": "6KIJwfNDqbC1"
      },
      "execution_count": null,
      "outputs": []
    },
    {
      "cell_type": "markdown",
      "source": [
        "**Creating the DecisionTreeRegressor model to be trained**"
      ],
      "metadata": {
        "id": "is7NYX-_qgOE"
      }
    },
    {
      "cell_type": "code",
      "execution_count": null,
      "metadata": {
        "id": "sgl5F_w6Bd6x"
      },
      "outputs": [],
      "source": [
        "Tree_Regressor_Model = DecisionTreeRegressor()"
      ]
    },
    {
      "cell_type": "markdown",
      "source": [
        "**Fitting the DecisionTreeRegressor model with training data**"
      ],
      "metadata": {
        "id": "ouoGfQMzqmna"
      }
    },
    {
      "cell_type": "code",
      "execution_count": null,
      "metadata": {
        "colab": {
          "base_uri": "https://localhost:8080/",
          "height": 74
        },
        "id": "DBJzom41Bd3o",
        "outputId": "17d55fef-4408-46ea-c5de-053c8194f381"
      },
      "outputs": [
        {
          "output_type": "execute_result",
          "data": {
            "text/plain": [
              "DecisionTreeRegressor()"
            ],
            "text/html": [
              "<style>#sk-container-id-2 {color: black;background-color: white;}#sk-container-id-2 pre{padding: 0;}#sk-container-id-2 div.sk-toggleable {background-color: white;}#sk-container-id-2 label.sk-toggleable__label {cursor: pointer;display: block;width: 100%;margin-bottom: 0;padding: 0.3em;box-sizing: border-box;text-align: center;}#sk-container-id-2 label.sk-toggleable__label-arrow:before {content: \"▸\";float: left;margin-right: 0.25em;color: #696969;}#sk-container-id-2 label.sk-toggleable__label-arrow:hover:before {color: black;}#sk-container-id-2 div.sk-estimator:hover label.sk-toggleable__label-arrow:before {color: black;}#sk-container-id-2 div.sk-toggleable__content {max-height: 0;max-width: 0;overflow: hidden;text-align: left;background-color: #f0f8ff;}#sk-container-id-2 div.sk-toggleable__content pre {margin: 0.2em;color: black;border-radius: 0.25em;background-color: #f0f8ff;}#sk-container-id-2 input.sk-toggleable__control:checked~div.sk-toggleable__content {max-height: 200px;max-width: 100%;overflow: auto;}#sk-container-id-2 input.sk-toggleable__control:checked~label.sk-toggleable__label-arrow:before {content: \"▾\";}#sk-container-id-2 div.sk-estimator input.sk-toggleable__control:checked~label.sk-toggleable__label {background-color: #d4ebff;}#sk-container-id-2 div.sk-label input.sk-toggleable__control:checked~label.sk-toggleable__label {background-color: #d4ebff;}#sk-container-id-2 input.sk-hidden--visually {border: 0;clip: rect(1px 1px 1px 1px);clip: rect(1px, 1px, 1px, 1px);height: 1px;margin: -1px;overflow: hidden;padding: 0;position: absolute;width: 1px;}#sk-container-id-2 div.sk-estimator {font-family: monospace;background-color: #f0f8ff;border: 1px dotted black;border-radius: 0.25em;box-sizing: border-box;margin-bottom: 0.5em;}#sk-container-id-2 div.sk-estimator:hover {background-color: #d4ebff;}#sk-container-id-2 div.sk-parallel-item::after {content: \"\";width: 100%;border-bottom: 1px solid gray;flex-grow: 1;}#sk-container-id-2 div.sk-label:hover label.sk-toggleable__label {background-color: #d4ebff;}#sk-container-id-2 div.sk-serial::before {content: \"\";position: absolute;border-left: 1px solid gray;box-sizing: border-box;top: 0;bottom: 0;left: 50%;z-index: 0;}#sk-container-id-2 div.sk-serial {display: flex;flex-direction: column;align-items: center;background-color: white;padding-right: 0.2em;padding-left: 0.2em;position: relative;}#sk-container-id-2 div.sk-item {position: relative;z-index: 1;}#sk-container-id-2 div.sk-parallel {display: flex;align-items: stretch;justify-content: center;background-color: white;position: relative;}#sk-container-id-2 div.sk-item::before, #sk-container-id-2 div.sk-parallel-item::before {content: \"\";position: absolute;border-left: 1px solid gray;box-sizing: border-box;top: 0;bottom: 0;left: 50%;z-index: -1;}#sk-container-id-2 div.sk-parallel-item {display: flex;flex-direction: column;z-index: 1;position: relative;background-color: white;}#sk-container-id-2 div.sk-parallel-item:first-child::after {align-self: flex-end;width: 50%;}#sk-container-id-2 div.sk-parallel-item:last-child::after {align-self: flex-start;width: 50%;}#sk-container-id-2 div.sk-parallel-item:only-child::after {width: 0;}#sk-container-id-2 div.sk-dashed-wrapped {border: 1px dashed gray;margin: 0 0.4em 0.5em 0.4em;box-sizing: border-box;padding-bottom: 0.4em;background-color: white;}#sk-container-id-2 div.sk-label label {font-family: monospace;font-weight: bold;display: inline-block;line-height: 1.2em;}#sk-container-id-2 div.sk-label-container {text-align: center;}#sk-container-id-2 div.sk-container {/* jupyter's `normalize.less` sets `[hidden] { display: none; }` but bootstrap.min.css set `[hidden] { display: none !important; }` so we also need the `!important` here to be able to override the default hidden behavior on the sphinx rendered scikit-learn.org. See: https://github.com/scikit-learn/scikit-learn/issues/21755 */display: inline-block !important;position: relative;}#sk-container-id-2 div.sk-text-repr-fallback {display: none;}</style><div id=\"sk-container-id-2\" class=\"sk-top-container\"><div class=\"sk-text-repr-fallback\"><pre>DecisionTreeRegressor()</pre><b>In a Jupyter environment, please rerun this cell to show the HTML representation or trust the notebook. <br />On GitHub, the HTML representation is unable to render, please try loading this page with nbviewer.org.</b></div><div class=\"sk-container\" hidden><div class=\"sk-item\"><div class=\"sk-estimator sk-toggleable\"><input class=\"sk-toggleable__control sk-hidden--visually\" id=\"sk-estimator-id-2\" type=\"checkbox\" checked><label for=\"sk-estimator-id-2\" class=\"sk-toggleable__label sk-toggleable__label-arrow\">DecisionTreeRegressor</label><div class=\"sk-toggleable__content\"><pre>DecisionTreeRegressor()</pre></div></div></div></div></div>"
            ]
          },
          "metadata": {},
          "execution_count": 37
        }
      ],
      "source": [
        "Tree_Regressor_Model.fit(Input_Training, Output_Training)"
      ]
    },
    {
      "cell_type": "markdown",
      "source": [
        "**Predicting overall rating using testing data**"
      ],
      "metadata": {
        "id": "-_0hb_Jkq5oD"
      }
    },
    {
      "cell_type": "code",
      "execution_count": null,
      "metadata": {
        "id": "pKEyorKKBd0n"
      },
      "outputs": [],
      "source": [
        "Tree_Regressor_Model_Prediction = Tree_Regressor_Model.predict(Input_Testing)"
      ]
    },
    {
      "cell_type": "code",
      "execution_count": null,
      "metadata": {
        "colab": {
          "base_uri": "https://localhost:8080/"
        },
        "id": "RBlThfHJ6k8C",
        "outputId": "1bf51ffa-19ce-4478-b5bb-8de3aec3c389"
      },
      "outputs": [
        {
          "output_type": "execute_result",
          "data": {
            "text/plain": [
              "array([93., 93., 92., ..., 49., 50., 49.])"
            ]
          },
          "metadata": {},
          "execution_count": 39
        }
      ],
      "source": [
        "Tree_Regressor_Model_Prediction"
      ]
    },
    {
      "cell_type": "markdown",
      "source": [
        "**Checking the mean_absolute_error of the DecisionTreeRegressor model**"
      ],
      "metadata": {
        "id": "Efu7GID-q8qy"
      }
    },
    {
      "cell_type": "code",
      "execution_count": null,
      "metadata": {
        "colab": {
          "base_uri": "https://localhost:8080/"
        },
        "id": "CA53ydXw6tql",
        "outputId": "ce1130e8-e3fd-4b36-cf8b-a7e7ae38c28b"
      },
      "outputs": [
        {
          "output_type": "execute_result",
          "data": {
            "text/plain": [
              "0.6935911429907999"
            ]
          },
          "metadata": {},
          "execution_count": 40
        }
      ],
      "source": [
        "mean_absolute_error(Tree_Regressor_Model_Prediction, Output_Testing)"
      ]
    },
    {
      "cell_type": "code",
      "execution_count": null,
      "metadata": {
        "id": "ung0xA_A6tSL"
      },
      "outputs": [],
      "source": []
    },
    {
      "cell_type": "code",
      "execution_count": null,
      "metadata": {
        "id": "LjxnnbBq6tO8"
      },
      "outputs": [],
      "source": []
    },
    {
      "cell_type": "markdown",
      "source": [
        "**Saving Tree_Regressor_Model using Pickle**"
      ],
      "metadata": {
        "id": "OaCfjAl8rOyn"
      }
    },
    {
      "cell_type": "code",
      "execution_count": null,
      "metadata": {
        "id": "-WtW8Y3-BdyM"
      },
      "outputs": [],
      "source": [
        "import pickle\n",
        "pickle.dump(Tree_Regressor_Model, open(\"Random_model.sav\", 'wb'))"
      ]
    },
    {
      "cell_type": "markdown",
      "source": [
        "# **Model Three**"
      ],
      "metadata": {
        "id": "ZnmaNfX2rZJ2"
      }
    },
    {
      "cell_type": "markdown",
      "source": [
        "***Importing RandomForestRegressor***\n",
        "\n"
      ],
      "metadata": {
        "id": "iyJuNG7bsAmc"
      }
    },
    {
      "cell_type": "code",
      "execution_count": null,
      "metadata": {
        "id": "R2zAQHxGBdvK"
      },
      "outputs": [],
      "source": [
        "from sklearn.ensemble import RandomForestRegressor"
      ]
    },
    {
      "cell_type": "markdown",
      "source": [
        "**Creating the RandomForestRegressor model to be trained**"
      ],
      "metadata": {
        "id": "6pq5DpxtsO0z"
      }
    },
    {
      "cell_type": "code",
      "execution_count": null,
      "metadata": {
        "id": "_j9ztpDhBVG0"
      },
      "outputs": [],
      "source": [
        "Random_Forest_Regressor_Model = RandomForestRegressor(n_estimators = 500, max_depth = 15,criterion = 'absolute_error', random_state = 0, min_samples_split = 2, min_samples_leaf = 1, max_features = 'auto', bootstrap = True)"
      ]
    },
    {
      "cell_type": "markdown",
      "source": [
        "**Fitting the RandomForestRegressor model with training data**"
      ],
      "metadata": {
        "id": "W1n1cUlysoVg"
      }
    },
    {
      "cell_type": "code",
      "execution_count": null,
      "metadata": {
        "colab": {
          "base_uri": "https://localhost:8080/",
          "height": 181
        },
        "id": "tWg6mp1UMt6N",
        "outputId": "597afbfe-029b-4fba-bda4-e882bf5b7992"
      },
      "outputs": [
        {
          "output_type": "stream",
          "name": "stderr",
          "text": [
            "<ipython-input-45-2f9af2947a1e>:1: DataConversionWarning: A column-vector y was passed when a 1d array was expected. Please change the shape of y to (n_samples,), for example using ravel().\n",
            "  Random_Forest_Regressor_Model.fit(Input_Training, Output_Training)\n",
            "/usr/local/lib/python3.10/dist-packages/sklearn/ensemble/_forest.py:413: FutureWarning: `max_features='auto'` has been deprecated in 1.1 and will be removed in 1.3. To keep the past behaviour, explicitly set `max_features=1.0` or remove this parameter as it is also the default value for RandomForestRegressors and ExtraTreesRegressors.\n",
            "  warn(\n"
          ]
        },
        {
          "output_type": "execute_result",
          "data": {
            "text/plain": [
              "RandomForestRegressor(criterion='absolute_error', max_depth=15,\n",
              "                      max_features='auto', n_estimators=500, random_state=0)"
            ],
            "text/html": [
              "<style>#sk-container-id-3 {color: black;background-color: white;}#sk-container-id-3 pre{padding: 0;}#sk-container-id-3 div.sk-toggleable {background-color: white;}#sk-container-id-3 label.sk-toggleable__label {cursor: pointer;display: block;width: 100%;margin-bottom: 0;padding: 0.3em;box-sizing: border-box;text-align: center;}#sk-container-id-3 label.sk-toggleable__label-arrow:before {content: \"▸\";float: left;margin-right: 0.25em;color: #696969;}#sk-container-id-3 label.sk-toggleable__label-arrow:hover:before {color: black;}#sk-container-id-3 div.sk-estimator:hover label.sk-toggleable__label-arrow:before {color: black;}#sk-container-id-3 div.sk-toggleable__content {max-height: 0;max-width: 0;overflow: hidden;text-align: left;background-color: #f0f8ff;}#sk-container-id-3 div.sk-toggleable__content pre {margin: 0.2em;color: black;border-radius: 0.25em;background-color: #f0f8ff;}#sk-container-id-3 input.sk-toggleable__control:checked~div.sk-toggleable__content {max-height: 200px;max-width: 100%;overflow: auto;}#sk-container-id-3 input.sk-toggleable__control:checked~label.sk-toggleable__label-arrow:before {content: \"▾\";}#sk-container-id-3 div.sk-estimator input.sk-toggleable__control:checked~label.sk-toggleable__label {background-color: #d4ebff;}#sk-container-id-3 div.sk-label input.sk-toggleable__control:checked~label.sk-toggleable__label {background-color: #d4ebff;}#sk-container-id-3 input.sk-hidden--visually {border: 0;clip: rect(1px 1px 1px 1px);clip: rect(1px, 1px, 1px, 1px);height: 1px;margin: -1px;overflow: hidden;padding: 0;position: absolute;width: 1px;}#sk-container-id-3 div.sk-estimator {font-family: monospace;background-color: #f0f8ff;border: 1px dotted black;border-radius: 0.25em;box-sizing: border-box;margin-bottom: 0.5em;}#sk-container-id-3 div.sk-estimator:hover {background-color: #d4ebff;}#sk-container-id-3 div.sk-parallel-item::after {content: \"\";width: 100%;border-bottom: 1px solid gray;flex-grow: 1;}#sk-container-id-3 div.sk-label:hover label.sk-toggleable__label {background-color: #d4ebff;}#sk-container-id-3 div.sk-serial::before {content: \"\";position: absolute;border-left: 1px solid gray;box-sizing: border-box;top: 0;bottom: 0;left: 50%;z-index: 0;}#sk-container-id-3 div.sk-serial {display: flex;flex-direction: column;align-items: center;background-color: white;padding-right: 0.2em;padding-left: 0.2em;position: relative;}#sk-container-id-3 div.sk-item {position: relative;z-index: 1;}#sk-container-id-3 div.sk-parallel {display: flex;align-items: stretch;justify-content: center;background-color: white;position: relative;}#sk-container-id-3 div.sk-item::before, #sk-container-id-3 div.sk-parallel-item::before {content: \"\";position: absolute;border-left: 1px solid gray;box-sizing: border-box;top: 0;bottom: 0;left: 50%;z-index: -1;}#sk-container-id-3 div.sk-parallel-item {display: flex;flex-direction: column;z-index: 1;position: relative;background-color: white;}#sk-container-id-3 div.sk-parallel-item:first-child::after {align-self: flex-end;width: 50%;}#sk-container-id-3 div.sk-parallel-item:last-child::after {align-self: flex-start;width: 50%;}#sk-container-id-3 div.sk-parallel-item:only-child::after {width: 0;}#sk-container-id-3 div.sk-dashed-wrapped {border: 1px dashed gray;margin: 0 0.4em 0.5em 0.4em;box-sizing: border-box;padding-bottom: 0.4em;background-color: white;}#sk-container-id-3 div.sk-label label {font-family: monospace;font-weight: bold;display: inline-block;line-height: 1.2em;}#sk-container-id-3 div.sk-label-container {text-align: center;}#sk-container-id-3 div.sk-container {/* jupyter's `normalize.less` sets `[hidden] { display: none; }` but bootstrap.min.css set `[hidden] { display: none !important; }` so we also need the `!important` here to be able to override the default hidden behavior on the sphinx rendered scikit-learn.org. See: https://github.com/scikit-learn/scikit-learn/issues/21755 */display: inline-block !important;position: relative;}#sk-container-id-3 div.sk-text-repr-fallback {display: none;}</style><div id=\"sk-container-id-3\" class=\"sk-top-container\"><div class=\"sk-text-repr-fallback\"><pre>RandomForestRegressor(criterion=&#x27;absolute_error&#x27;, max_depth=15,\n",
              "                      max_features=&#x27;auto&#x27;, n_estimators=500, random_state=0)</pre><b>In a Jupyter environment, please rerun this cell to show the HTML representation or trust the notebook. <br />On GitHub, the HTML representation is unable to render, please try loading this page with nbviewer.org.</b></div><div class=\"sk-container\" hidden><div class=\"sk-item\"><div class=\"sk-estimator sk-toggleable\"><input class=\"sk-toggleable__control sk-hidden--visually\" id=\"sk-estimator-id-3\" type=\"checkbox\" checked><label for=\"sk-estimator-id-3\" class=\"sk-toggleable__label sk-toggleable__label-arrow\">RandomForestRegressor</label><div class=\"sk-toggleable__content\"><pre>RandomForestRegressor(criterion=&#x27;absolute_error&#x27;, max_depth=15,\n",
              "                      max_features=&#x27;auto&#x27;, n_estimators=500, random_state=0)</pre></div></div></div></div></div>"
            ]
          },
          "metadata": {},
          "execution_count": 45
        }
      ],
      "source": [
        "Random_Forest_Regressor_Model.fit(Input_Training, Output_Training)"
      ]
    },
    {
      "cell_type": "markdown",
      "source": [
        "**Predicting overall rating using testing data**"
      ],
      "metadata": {
        "id": "IW8MUfmJsuu2"
      }
    },
    {
      "cell_type": "code",
      "execution_count": null,
      "metadata": {
        "id": "XEiUoJeZBVDd"
      },
      "outputs": [],
      "source": [
        "Random_Forest_Regressor_Prediction = Random_Forest_Regressor_Model.predict(Input_Testing)"
      ]
    },
    {
      "cell_type": "code",
      "execution_count": null,
      "metadata": {
        "colab": {
          "base_uri": "https://localhost:8080/"
        },
        "id": "E2D15EIFBVBO",
        "outputId": "ec51d2d2-eeca-453b-f90f-d1a2b61e6ab2"
      },
      "outputs": [
        {
          "output_type": "execute_result",
          "data": {
            "text/plain": [
              "array([92.126, 91.61 , 90.006, ..., 49.264, 48.991, 49.386])"
            ]
          },
          "metadata": {},
          "execution_count": 47
        }
      ],
      "source": [
        "Random_Forest_Regressor_Prediction"
      ]
    },
    {
      "cell_type": "markdown",
      "source": [
        "**Checking the mean_absolute_error of the RandomForestRegressor model**"
      ],
      "metadata": {
        "id": "TtiVpttSszJS"
      }
    },
    {
      "cell_type": "code",
      "execution_count": null,
      "metadata": {
        "colab": {
          "base_uri": "https://localhost:8080/"
        },
        "id": "LPjdEGByBU5Y",
        "outputId": "ec0d19da-517c-4350-a4fa-c047c89f0b6f"
      },
      "outputs": [
        {
          "output_type": "execute_result",
          "data": {
            "text/plain": [
              "0.6073230937158897"
            ]
          },
          "metadata": {},
          "execution_count": 51
        }
      ],
      "source": [
        "mean_absolute_error(Random_Forest_Regressor_Prediction, Output_Testing)"
      ]
    },
    {
      "cell_type": "code",
      "execution_count": null,
      "metadata": {
        "id": "nmBO7X698Dqg"
      },
      "outputs": [],
      "source": []
    },
    {
      "cell_type": "markdown",
      "source": [
        "**Saving Random_Forest_Regressor_model using Pickle**"
      ],
      "metadata": {
        "id": "Z-X5Cw1os8al"
      }
    },
    {
      "cell_type": "code",
      "execution_count": null,
      "metadata": {
        "id": "k0INoQVFIYOK"
      },
      "outputs": [],
      "source": [
        "import pickle\n",
        "pickle.dump(Random_Forest_Regressor_Model, open(\"Random_Forest_Regressor_model.sav\", 'wb'))"
      ]
    },
    {
      "cell_type": "code",
      "execution_count": null,
      "metadata": {
        "id": "k3kPfgEZBUWx"
      },
      "outputs": [],
      "source": []
    },
    {
      "cell_type": "code",
      "execution_count": null,
      "metadata": {
        "id": "KWnYXAhXBUUz"
      },
      "outputs": [],
      "source": []
    },
    {
      "cell_type": "markdown",
      "source": [
        "# **Model Four**"
      ],
      "metadata": {
        "id": "oJOyTxyAtXXw"
      }
    },
    {
      "cell_type": "markdown",
      "source": [
        "**Importanting VotingRegressor, SVR, KNeighborsRegressor, DecisionTreeRegressor for ensemble model**"
      ],
      "metadata": {
        "id": "Y8bMm3ZltiXG"
      }
    },
    {
      "cell_type": "code",
      "execution_count": null,
      "metadata": {
        "id": "tWAZg-IaBUNC"
      },
      "outputs": [],
      "source": [
        "from sklearn.ensemble import VotingRegressor\n",
        "from sklearn.tree import DecisionTreeRegressor\n",
        "from sklearn.neighbors import KNeighborsRegressor\n",
        "from sklearn.svm import SVR"
      ]
    },
    {
      "cell_type": "markdown",
      "source": [
        "Creating the SVR, KNeighborsRegressor, and DecisionTreeRegressor  models to be trained"
      ],
      "metadata": {
        "id": "C5FFcnafuF5L"
      }
    },
    {
      "cell_type": "code",
      "execution_count": null,
      "metadata": {
        "id": "pwZn38iWBUJv"
      },
      "outputs": [],
      "source": [
        "decision_tree = DecisionTreeRegressor(random_state=42, criterion='absolute_error')\n",
        "knn = KNeighborsRegressor(n_neighbors=8)\n",
        "svm = SVR(C = 1.0, epsilon=0.2)"
      ]
    },
    {
      "cell_type": "code",
      "execution_count": null,
      "metadata": {
        "id": "Cqm9p_1VBUHG"
      },
      "outputs": [],
      "source": []
    },
    {
      "cell_type": "markdown",
      "source": [
        "**Creating the VotingRegressor model to be trained**"
      ],
      "metadata": {
        "id": "_siaIr7gu98e"
      }
    },
    {
      "cell_type": "code",
      "execution_count": null,
      "metadata": {
        "id": "qfxJm0ZYBUD3"
      },
      "outputs": [],
      "source": [
        "voting_regressor = VotingRegressor(estimators=[('decision_tree', decision_tree), ('knn', knn), ('svm', svm)])"
      ]
    },
    {
      "cell_type": "markdown",
      "source": [
        "**Fitting the ensemble model with training data**"
      ],
      "metadata": {
        "id": "YjF2vkk7vEtw"
      }
    },
    {
      "cell_type": "code",
      "execution_count": null,
      "metadata": {
        "colab": {
          "base_uri": "https://localhost:8080/"
        },
        "id": "NI_2ZNG2BUAu",
        "outputId": "4a641009-1ad8-4925-e6f9-de1e18655714"
      },
      "outputs": [
        {
          "output_type": "stream",
          "name": "stdout",
          "text": [
            "DecisionTreeRegressor 0.6920837881386767\n",
            "KNeighborsRegressor 3.7195800197515463\n"
          ]
        },
        {
          "output_type": "stream",
          "name": "stderr",
          "text": [
            "/usr/local/lib/python3.10/dist-packages/sklearn/utils/validation.py:1143: DataConversionWarning: A column-vector y was passed when a 1d array was expected. Please change the shape of y to (n_samples, ), for example using ravel().\n",
            "  y = column_or_1d(y, warn=True)\n"
          ]
        },
        {
          "output_type": "stream",
          "name": "stdout",
          "text": [
            "SVR 2.8724168459523436\n"
          ]
        },
        {
          "output_type": "stream",
          "name": "stderr",
          "text": [
            "/usr/local/lib/python3.10/dist-packages/sklearn/ensemble/_voting.py:597: DataConversionWarning: A column-vector y was passed when a 1d array was expected. Please change the shape of y to (n_samples, ), for example using ravel().\n",
            "  y = column_or_1d(y, warn=True)\n"
          ]
        },
        {
          "output_type": "stream",
          "name": "stdout",
          "text": [
            "VotingRegressor 2.2881726890758256\n"
          ]
        }
      ],
      "source": [
        "for model in (decision_tree, knn, svm, voting_regressor):\n",
        "  model.fit(Input_Training, Output_Training)\n",
        "  Ensemble_Model_Prediction = model.predict(Input_Testing)\n",
        "  print(model.__class__.__name__,mean_absolute_error(Ensemble_Model_Prediction, Output_Testing))"
      ]
    },
    {
      "cell_type": "markdown",
      "source": [
        "**Checking the mean_absolute_error of the ensemble model**"
      ],
      "metadata": {
        "id": "WZYkfleUvQjQ"
      }
    },
    {
      "cell_type": "code",
      "source": [
        "mean_absolute_error(Ensemble_Model_Prediction, Output_Testing)"
      ],
      "metadata": {
        "colab": {
          "base_uri": "https://localhost:8080/"
        },
        "id": "U3iqn4T03JJ0",
        "outputId": "05fd6e4d-a1f4-4e75-c0ca-971419daee60"
      },
      "execution_count": null,
      "outputs": [
        {
          "output_type": "execute_result",
          "data": {
            "text/plain": [
              "2.2881726890758256"
            ]
          },
          "metadata": {},
          "execution_count": 63
        }
      ]
    },
    {
      "cell_type": "markdown",
      "source": [
        "# **Model Five(Model chosen to be deployed based on the mean absolute error).**"
      ],
      "metadata": {
        "id": "3AdfpGumv7Kt"
      }
    },
    {
      "cell_type": "markdown",
      "source": [
        "**Importanting an ensemble RandomForestRegressor**"
      ],
      "metadata": {
        "id": "S_jVfcFgvaJS"
      }
    },
    {
      "cell_type": "code",
      "execution_count": null,
      "metadata": {
        "id": "Pj1KonsFBT95"
      },
      "outputs": [],
      "source": [
        "from sklearn.ensemble import RandomForestRegressor"
      ]
    },
    {
      "cell_type": "markdown",
      "source": [
        "**Creating the RandomForestRegressor model to be trained**"
      ],
      "metadata": {
        "id": "3by-o_JlwAa4"
      }
    },
    {
      "cell_type": "code",
      "execution_count": null,
      "metadata": {
        "id": "_inoRyxGBT63"
      },
      "outputs": [],
      "source": [
        "Random_Forest_Regressor_Model = RandomForestRegressor(n_estimators = 500, max_depth = 15, criterion = 'absolute_error')"
      ]
    },
    {
      "cell_type": "markdown",
      "source": [
        "Fitting the ensemble RandomForestRegressor model with training data"
      ],
      "metadata": {
        "id": "JELSh4AlwHA-"
      }
    },
    {
      "cell_type": "code",
      "execution_count": null,
      "metadata": {
        "colab": {
          "base_uri": "https://localhost:8080/",
          "height": 146
        },
        "id": "y7XpI-HjKVa4",
        "outputId": "278956d6-aff0-49c3-fe76-141d2b5c13b3"
      },
      "outputs": [
        {
          "metadata": {
            "tags": null
          },
          "name": "stderr",
          "output_type": "stream",
          "text": [
            "<ipython-input-66-2f9af2947a1e>:1: DataConversionWarning: A column-vector y was passed when a 1d array was expected. Please change the shape of y to (n_samples,), for example using ravel().\n",
            "  Random_Forest_Regressor_Model.fit(Input_Training, Output_Training)\n"
          ]
        },
        {
          "output_type": "execute_result",
          "data": {
            "text/plain": [
              "RandomForestRegressor(criterion='absolute_error', max_depth=15,\n",
              "                      n_estimators=500)"
            ],
            "text/html": [
              "<style>#sk-container-id-4 {color: black;background-color: white;}#sk-container-id-4 pre{padding: 0;}#sk-container-id-4 div.sk-toggleable {background-color: white;}#sk-container-id-4 label.sk-toggleable__label {cursor: pointer;display: block;width: 100%;margin-bottom: 0;padding: 0.3em;box-sizing: border-box;text-align: center;}#sk-container-id-4 label.sk-toggleable__label-arrow:before {content: \"▸\";float: left;margin-right: 0.25em;color: #696969;}#sk-container-id-4 label.sk-toggleable__label-arrow:hover:before {color: black;}#sk-container-id-4 div.sk-estimator:hover label.sk-toggleable__label-arrow:before {color: black;}#sk-container-id-4 div.sk-toggleable__content {max-height: 0;max-width: 0;overflow: hidden;text-align: left;background-color: #f0f8ff;}#sk-container-id-4 div.sk-toggleable__content pre {margin: 0.2em;color: black;border-radius: 0.25em;background-color: #f0f8ff;}#sk-container-id-4 input.sk-toggleable__control:checked~div.sk-toggleable__content {max-height: 200px;max-width: 100%;overflow: auto;}#sk-container-id-4 input.sk-toggleable__control:checked~label.sk-toggleable__label-arrow:before {content: \"▾\";}#sk-container-id-4 div.sk-estimator input.sk-toggleable__control:checked~label.sk-toggleable__label {background-color: #d4ebff;}#sk-container-id-4 div.sk-label input.sk-toggleable__control:checked~label.sk-toggleable__label {background-color: #d4ebff;}#sk-container-id-4 input.sk-hidden--visually {border: 0;clip: rect(1px 1px 1px 1px);clip: rect(1px, 1px, 1px, 1px);height: 1px;margin: -1px;overflow: hidden;padding: 0;position: absolute;width: 1px;}#sk-container-id-4 div.sk-estimator {font-family: monospace;background-color: #f0f8ff;border: 1px dotted black;border-radius: 0.25em;box-sizing: border-box;margin-bottom: 0.5em;}#sk-container-id-4 div.sk-estimator:hover {background-color: #d4ebff;}#sk-container-id-4 div.sk-parallel-item::after {content: \"\";width: 100%;border-bottom: 1px solid gray;flex-grow: 1;}#sk-container-id-4 div.sk-label:hover label.sk-toggleable__label {background-color: #d4ebff;}#sk-container-id-4 div.sk-serial::before {content: \"\";position: absolute;border-left: 1px solid gray;box-sizing: border-box;top: 0;bottom: 0;left: 50%;z-index: 0;}#sk-container-id-4 div.sk-serial {display: flex;flex-direction: column;align-items: center;background-color: white;padding-right: 0.2em;padding-left: 0.2em;position: relative;}#sk-container-id-4 div.sk-item {position: relative;z-index: 1;}#sk-container-id-4 div.sk-parallel {display: flex;align-items: stretch;justify-content: center;background-color: white;position: relative;}#sk-container-id-4 div.sk-item::before, #sk-container-id-4 div.sk-parallel-item::before {content: \"\";position: absolute;border-left: 1px solid gray;box-sizing: border-box;top: 0;bottom: 0;left: 50%;z-index: -1;}#sk-container-id-4 div.sk-parallel-item {display: flex;flex-direction: column;z-index: 1;position: relative;background-color: white;}#sk-container-id-4 div.sk-parallel-item:first-child::after {align-self: flex-end;width: 50%;}#sk-container-id-4 div.sk-parallel-item:last-child::after {align-self: flex-start;width: 50%;}#sk-container-id-4 div.sk-parallel-item:only-child::after {width: 0;}#sk-container-id-4 div.sk-dashed-wrapped {border: 1px dashed gray;margin: 0 0.4em 0.5em 0.4em;box-sizing: border-box;padding-bottom: 0.4em;background-color: white;}#sk-container-id-4 div.sk-label label {font-family: monospace;font-weight: bold;display: inline-block;line-height: 1.2em;}#sk-container-id-4 div.sk-label-container {text-align: center;}#sk-container-id-4 div.sk-container {/* jupyter's `normalize.less` sets `[hidden] { display: none; }` but bootstrap.min.css set `[hidden] { display: none !important; }` so we also need the `!important` here to be able to override the default hidden behavior on the sphinx rendered scikit-learn.org. See: https://github.com/scikit-learn/scikit-learn/issues/21755 */display: inline-block !important;position: relative;}#sk-container-id-4 div.sk-text-repr-fallback {display: none;}</style><div id=\"sk-container-id-4\" class=\"sk-top-container\"><div class=\"sk-text-repr-fallback\"><pre>RandomForestRegressor(criterion=&#x27;absolute_error&#x27;, max_depth=15,\n",
              "                      n_estimators=500)</pre><b>In a Jupyter environment, please rerun this cell to show the HTML representation or trust the notebook. <br />On GitHub, the HTML representation is unable to render, please try loading this page with nbviewer.org.</b></div><div class=\"sk-container\" hidden><div class=\"sk-item\"><div class=\"sk-estimator sk-toggleable\"><input class=\"sk-toggleable__control sk-hidden--visually\" id=\"sk-estimator-id-4\" type=\"checkbox\" checked><label for=\"sk-estimator-id-4\" class=\"sk-toggleable__label sk-toggleable__label-arrow\">RandomForestRegressor</label><div class=\"sk-toggleable__content\"><pre>RandomForestRegressor(criterion=&#x27;absolute_error&#x27;, max_depth=15,\n",
              "                      n_estimators=500)</pre></div></div></div></div></div>"
            ]
          },
          "metadata": {},
          "execution_count": 66
        }
      ],
      "source": [
        "Random_Forest_Regressor_Model.fit(Input_Training, Output_Training)"
      ]
    },
    {
      "cell_type": "markdown",
      "source": [
        "**Predicting overall rating using testing data**"
      ],
      "metadata": {
        "id": "MUgXmMrcwRxM"
      }
    },
    {
      "cell_type": "code",
      "execution_count": null,
      "metadata": {
        "id": "ZV18pTRBBT1o"
      },
      "outputs": [],
      "source": [
        "Random_Forest_Model_Prediction = Random_Forest_Regressor_Model.predict(Input_Testing)"
      ]
    },
    {
      "cell_type": "markdown",
      "source": [
        "**Checking the mean_absolute_error of the ensemble RandomForestRegressor model**"
      ],
      "metadata": {
        "id": "nuS1WnwBwYLW"
      }
    },
    {
      "cell_type": "code",
      "execution_count": null,
      "metadata": {
        "id": "F7QfptGeBTyc",
        "colab": {
          "base_uri": "https://localhost:8080/"
        },
        "outputId": "d975572d-ca29-4c61-cc59-3c6a9fc32089"
      },
      "outputs": [
        {
          "output_type": "execute_result",
          "data": {
            "text/plain": [
              "0.6053068766567908"
            ]
          },
          "metadata": {},
          "execution_count": 68
        }
      ],
      "source": [
        "mean_absolute_error(Random_Forest_Model_Prediction, Output_Testing)"
      ]
    },
    {
      "cell_type": "markdown",
      "source": [
        "**Saving the ensemble RandomForestRegressor model using Pickle**"
      ],
      "metadata": {
        "id": "Y2qBgLUawlMY"
      }
    },
    {
      "cell_type": "code",
      "execution_count": null,
      "metadata": {
        "id": "mvk0X4KZBTuY"
      },
      "outputs": [],
      "source": [
        "import pickle\n",
        "pickle.dump(Random_Forest_Regressor_Model, open(\"Random_Forest_model.sav\", 'wb'))"
      ]
    },
    {
      "cell_type": "code",
      "execution_count": null,
      "metadata": {
        "id": "t2PDYxugBTrR"
      },
      "outputs": [],
      "source": []
    }
  ],
  "metadata": {
    "colab": {
      "provenance": []
    },
    "kernelspec": {
      "display_name": "Python 3",
      "name": "python3"
    },
    "language_info": {
      "name": "python"
    }
  },
  "nbformat": 4,
  "nbformat_minor": 0
}